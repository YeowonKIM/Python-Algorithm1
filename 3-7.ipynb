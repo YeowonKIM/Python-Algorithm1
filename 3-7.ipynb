{
 "cells": [
  {
   "cell_type": "markdown",
   "id": "6557cbc7",
   "metadata": {},
   "source": [
    "N*N격자판으로 이루어진 사과밭이 있다. (N의 크기는 항상 홀수)\n",
    "아래의 그림과 같이 다이아몬드 모양으로 칠해진 곳의 수만큼의 사과만 수확하려고 한다.\n",
    "입력 : N, 격자판에 채워질 25개의 수(N줄에 걸쳐 입력받을 것) "
   ]
  },
  {
   "cell_type": "code",
   "execution_count": 28,
   "id": "d267b980",
   "metadata": {},
   "outputs": [
    {
     "name": "stdout",
     "output_type": "stream",
     "text": [
      "5\n",
      "10 13 10 12 15\n",
      "12 39 30 23 11\n",
      "11 25 50 53 15\n",
      "19 27 29 37 27\n",
      "19 13 30 13 19\n",
      "379\n"
     ]
    }
   ],
   "source": [
    "# 내 풀이\n",
    "n = int(input())\n",
    "arr =[list(map(int,input().split())) for _ in range(n)]\n",
    "stn = 0; tot = 0\n",
    "while stn<n//2+1:\n",
    "    if stn == 0:\n",
    "        for i in range(n):\n",
    "            tot+=arr[n//2][i]\n",
    "        stn+=1\n",
    "    else:\n",
    "        for j in range(n-2*stn):\n",
    "            tot+=arr[n//2-stn][j+stn]\n",
    "            tot+=arr[n//2+stn][j+stn]\n",
    "        stn+=1\n",
    "print(tot)\n",
    "        "
   ]
  },
  {
   "cell_type": "code",
   "execution_count": 1,
   "id": "e3ecfb61",
   "metadata": {},
   "outputs": [
    {
     "name": "stdout",
     "output_type": "stream",
     "text": [
      "5\n",
      "10 13 10 12 15\n",
      "12 39 30 23 11\n",
      "11 25 50 53 15\n",
      "19 27 29 37 27\n",
      "19 13 30 13 19\n",
      "379\n"
     ]
    }
   ],
   "source": [
    "# 수업풀이\n",
    "n = int(input())\n",
    "arr =[list(map(int,input().split())) for _ in range(n)]\n",
    "tot = 0\n",
    "s=e=n//2\n",
    "for i in range(n):\n",
    "    for j in range(s,e+1):\n",
    "        # print(arr[i][j], end = \" \")\n",
    "        tot+=arr[i][j]\n",
    "    if i<n//2:\n",
    "        s-=1\n",
    "        e+=1\n",
    "    else:\n",
    "        s+=1\n",
    "        e-=1\n",
    "print(tot)"
   ]
  },
  {
   "cell_type": "code",
   "execution_count": null,
   "id": "01469fdb",
   "metadata": {},
   "outputs": [],
   "source": []
  }
 ],
 "metadata": {
  "kernelspec": {
   "display_name": "Python 3 (ipykernel)",
   "language": "python",
   "name": "python3"
  },
  "language_info": {
   "codemirror_mode": {
    "name": "ipython",
    "version": 3
   },
   "file_extension": ".py",
   "mimetype": "text/x-python",
   "name": "python",
   "nbconvert_exporter": "python",
   "pygments_lexer": "ipython3",
   "version": "3.9.7"
  }
 },
 "nbformat": 4,
 "nbformat_minor": 5
}
