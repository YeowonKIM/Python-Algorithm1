{
 "cells": [
  {
   "cell_type": "code",
   "execution_count": null,
   "id": "4b6f67fa",
   "metadata": {},
   "outputs": [],
   "source": [
    "2-7. 소수의 개수(에라토스테네스의 체)\n",
    "\n",
    ": 자연수 N을 입력받은 뒤, 1부터 N까지 소수의 개수를 출력하는 프로그램."
   ]
  },
  {
   "cell_type": "code",
   "execution_count": 1,
   "id": "75a82cb7",
   "metadata": {},
   "outputs": [
    {
     "name": "stdout",
     "output_type": "stream",
     "text": [
      "20\n",
      "8\n"
     ]
    }
   ],
   "source": [
    "# 내 풀이\n",
    "n = int(input())\n",
    "num = [0]*(n+1)\n",
    "for i in range(2, n+1):   \n",
    "    for j in range(i+i, n+1, i): \n",
    "        num[j] += 1\n",
    "print(num.count(0)-2)"
   ]
  },
  {
   "cell_type": "code",
   "execution_count": 4,
   "id": "f9abc1e9",
   "metadata": {},
   "outputs": [
    {
     "name": "stdout",
     "output_type": "stream",
     "text": [
      "100000\n",
      "9592\n"
     ]
    }
   ],
   "source": [
    "# 수업 풀이\n",
    "n = int(input())\n",
    "ch = [0]*(n+1)\n",
    "cnt = 0\n",
    "for i in range(2, n+1):\n",
    "    if ch[i] == 0: # i번째 값이 1로 체크가 안되어 있으면 소수임.\n",
    "        cnt += 1   # 1로 체크 안된 거 개수세기\n",
    "        for j in range(i, n+1, i): # i의 배수 소거\n",
    "            ch[j] = 1\n",
    "print(cnt)"
   ]
  },
  {
   "cell_type": "code",
   "execution_count": null,
   "id": "9de52907",
   "metadata": {},
   "outputs": [],
   "source": []
  }
 ],
 "metadata": {
  "kernelspec": {
   "display_name": "Python 3 (ipykernel)",
   "language": "python",
   "name": "python3"
  },
  "language_info": {
   "codemirror_mode": {
    "name": "ipython",
    "version": 3
   },
   "file_extension": ".py",
   "mimetype": "text/x-python",
   "name": "python",
   "nbconvert_exporter": "python",
   "pygments_lexer": "ipython3",
   "version": "3.9.7"
  }
 },
 "nbformat": 4,
 "nbformat_minor": 5
}
