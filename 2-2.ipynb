{
 "cells": [
  {
   "cell_type": "markdown",
   "id": "2e78d87b",
   "metadata": {},
   "source": [
    "N, s, e, k를 입력 받는다.\n",
    "입력 받을 자연수 개수는 N개, s에서 e번째까지 중에서 k번째로 큰 수를 출력하는 프로그램."
   ]
  },
  {
   "cell_type": "code",
   "execution_count": 2,
   "id": "3bc7b4be",
   "metadata": {
    "scrolled": true
   },
   "outputs": [
    {
     "name": "stdout",
     "output_type": "stream",
     "text": [
      "2\n",
      "6 2 5 3\n",
      "5 2 7 3 8 9\n",
      "#1 7\n",
      "15 3 10 3\n",
      "4 15 8 16 6 6 17 3 10 11 18 7 14 7 15\n",
      "#2 6\n"
     ]
    }
   ],
   "source": [
    "#K번째 수\n",
    "testCase = int(input())\n",
    "for i in range(testCase):\n",
    "    N, s, e, k = map(int, input().split())\n",
    "    nums = [int(x) for x in input().split()] # 리스트로 n개의 정수 받기\n",
    "    # print(nums)\n",
    "\n",
    "    numsEdit = nums[s-1:e]\n",
    "    #print(numsEdit)\n",
    "    numsEdit.sort()\n",
    "    #print(numsEdit)\n",
    "    print('#{} {}'.format(i+1, numsEdit[k-1]))\n"
   ]
  },
  {
   "cell_type": "code",
   "execution_count": 3,
   "id": "1e62b797",
   "metadata": {},
   "outputs": [
    {
     "name": "stdout",
     "output_type": "stream",
     "text": [
      "2\n",
      "6 2 5 3\n",
      "5 2 7 3 8 9\n",
      "#1 7\n",
      "15 3 10 3\n",
      "4 15 8 16 6 6 17 3 10 11 18 7 14 7 15\n",
      "#2 6\n"
     ]
    }
   ],
   "source": [
    "#K번째 수 (수업 풀이)\n",
    "testCase = int(input())\n",
    "for i in range(testCase):\n",
    "    N, s, e, k = map(int, input().split())\n",
    "    nums = list(map(int, input().split())) # 리스트로 n개의 정수 받기2\n",
    "\n",
    "    nums = nums[s-1:e]\n",
    "    #print(numsEdit)\n",
    "    nums.sort()\n",
    "    #print(numsEdit)\n",
    "    print('#%d %d' %(i+1, nums[k-1]))"
   ]
  },
  {
   "cell_type": "code",
   "execution_count": null,
   "id": "509a6944",
   "metadata": {},
   "outputs": [],
   "source": []
  }
 ],
 "metadata": {
  "kernelspec": {
   "display_name": "Python 3 (ipykernel)",
   "language": "python",
   "name": "python3"
  },
  "language_info": {
   "codemirror_mode": {
    "name": "ipython",
    "version": 3
   },
   "file_extension": ".py",
   "mimetype": "text/x-python",
   "name": "python",
   "nbconvert_exporter": "python",
   "pygments_lexer": "ipython3",
   "version": "3.9.7"
  }
 },
 "nbformat": 4,
 "nbformat_minor": 5
}
