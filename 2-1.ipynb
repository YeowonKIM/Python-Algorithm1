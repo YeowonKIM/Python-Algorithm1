{
 "cells": [
  {
   "cell_type": "code",
   "execution_count": 7,
   "id": "9ce5a06f",
   "metadata": {},
   "outputs": [
    {
     "name": "stdout",
     "output_type": "stream",
     "text": [
      "6 3\n",
      "3\n"
     ]
    }
   ],
   "source": [
    "# K번째 약수 풀이\n",
    "N, K = map(int, input(). split())\n",
    "\n",
    "ns = []\n",
    "\n",
    "for i in range(1, N+1):\n",
    "    if N % i == 0:\n",
    "        ns.append(i)\n",
    "    else:\n",
    "        pass    \n",
    "# print(ns)\n",
    "\n",
    "if len(ns) >= K:\n",
    "    print(ns[K-1])\n",
    "else:\n",
    "    print(-1)\n"
   ]
  },
  {
   "cell_type": "code",
   "execution_count": 2,
   "id": "53d9a430",
   "metadata": {},
   "outputs": [
    {
     "name": "stdout",
     "output_type": "stream",
     "text": [
      "15 3\n",
      "5\n"
     ]
    }
   ],
   "source": [
    "# K번째 약수 (수업 풀이)\n",
    "n, k = map(int, input().split())\n",
    "cnt = 0\n",
    "for i in range(1, n+1):\n",
    "    if n%i == 0:\n",
    "        cnt += 1\n",
    "    if cnt==k:\n",
    "        print(i)\n",
    "        break\n",
    "else:\n",
    "    print(-1)"
   ]
  },
  {
   "cell_type": "code",
   "execution_count": null,
   "id": "f655ccd8",
   "metadata": {},
   "outputs": [],
   "source": []
  }
 ],
 "metadata": {
  "kernelspec": {
   "display_name": "Python 3 (ipykernel)",
   "language": "python",
   "name": "python3"
  },
  "language_info": {
   "codemirror_mode": {
    "name": "ipython",
    "version": 3
   },
   "file_extension": ".py",
   "mimetype": "text/x-python",
   "name": "python",
   "nbconvert_exporter": "python",
   "pygments_lexer": "ipython3",
   "version": "3.9.7"
  }
 },
 "nbformat": 4,
 "nbformat_minor": 5
}
