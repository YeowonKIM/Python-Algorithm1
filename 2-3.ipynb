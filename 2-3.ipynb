{
 "cells": [
  {
   "cell_type": "code",
   "execution_count": null,
   "id": "c54e0585",
   "metadata": {},
   "outputs": [],
   "source": [
    "1~100 사이의 자연수가 적힌 N장의 카드 중에 3장을 뽑는다. (카드의 숫자는 중복 가능)\n",
    "3장을 뽑을 수 있는 모든 경우를 기록한 뒤, K번째로 큰 수를 출력하는 프로그램."
   ]
  },
  {
   "cell_type": "code",
   "execution_count": 39,
   "id": "cc75e59c",
   "metadata": {},
   "outputs": [
    {
     "name": "stdout",
     "output_type": "stream",
     "text": [
      "10 3\n",
      "13 15 34 23 45 65 33 11 26 42\n",
      "143\n"
     ]
    }
   ],
   "source": [
    "# K번째 큰 수\n",
    "N, K = map(int, input().split())\n",
    "cards = [int(x) for x in input().split()]\n",
    "# print(cards)\n",
    "addCards= set()\n",
    "\n",
    "for i in range(N):\n",
    "    for j in range(i+1, N):\n",
    "        for k in range(j+1, N):\n",
    "            plus = cards[i] + cards[j] + cards[k]\n",
    "            addCards.add(plus)\n",
    "# print(addCards)\n",
    "\n",
    "toList = list(addCards)\n",
    "# print(toList)\n",
    "toList.sort(reverse = True)\n",
    "# print(toList)\n",
    "print(toList[K-1])\n"
   ]
  },
  {
   "cell_type": "code",
   "execution_count": 38,
   "id": "c2c92cf9",
   "metadata": {},
   "outputs": [
    {
     "name": "stdout",
     "output_type": "stream",
     "text": [
      "10 3\n",
      "13 15 34 23 45 65 33 11 26 42\n",
      "143\n"
     ]
    }
   ],
   "source": [
    "# 수업 풀이\n",
    "n, k = map(int, input().split())\n",
    "a = list(map(int, input().split()))\n",
    "res = set()\n",
    "\n",
    "for i in range(n):\n",
    "    for j in range(i+1, n):\n",
    "        for m in range(j+1, n):\n",
    "            res.add(a[i]+a[j]+a[m])\n",
    "res = list(res)\n",
    "res.sort(reverse = True)\n",
    "print(res[k-1])"
   ]
  },
  {
   "cell_type": "code",
   "execution_count": null,
   "id": "9bc15341",
   "metadata": {},
   "outputs": [],
   "source": []
  },
  {
   "cell_type": "code",
   "execution_count": null,
   "id": "3760f435",
   "metadata": {},
   "outputs": [],
   "source": []
  }
 ],
 "metadata": {
  "kernelspec": {
   "display_name": "Python 3 (ipykernel)",
   "language": "python",
   "name": "python3"
  },
  "language_info": {
   "codemirror_mode": {
    "name": "ipython",
    "version": 3
   },
   "file_extension": ".py",
   "mimetype": "text/x-python",
   "name": "python",
   "nbconvert_exporter": "python",
   "pygments_lexer": "ipython3",
   "version": "3.9.7"
  }
 },
 "nbformat": 4,
 "nbformat_minor": 5
}
