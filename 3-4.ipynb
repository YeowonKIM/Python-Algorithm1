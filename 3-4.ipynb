{
 "cells": [
  {
   "cell_type": "markdown",
   "id": "4ce561cb",
   "metadata": {},
   "source": [
    "리스트의 크기와 그 크기만큼 오름차순으로 정렬된 리스트를 두 번씩 입력 받는다.\n",
    "두 리스트를 합쳐 오름차순으로 출력하는 프로그램."
   ]
  },
  {
   "cell_type": "code",
   "execution_count": 2,
   "id": "f9b5018c",
   "metadata": {},
   "outputs": [
    {
     "name": "stdout",
     "output_type": "stream",
     "text": [
      "3\n",
      "1 3 5\n",
      "5\n",
      "2 3 6 7 9\n",
      "1 2 3 3 5 6 7 9 "
     ]
    }
   ],
   "source": [
    "# 풀이1\n",
    "two = []\n",
    "for _ in range(2):\n",
    "    n1 = int(input())\n",
    "    list1 = list(map(int,input().split()))\n",
    "    two = two + list1\n",
    "two.sort()\n",
    "for x in two:\n",
    "    print(x, end = ' ')"
   ]
  },
  {
   "cell_type": "code",
   "execution_count": 3,
   "id": "31d05ac2",
   "metadata": {},
   "outputs": [
    {
     "name": "stdout",
     "output_type": "stream",
     "text": [
      "3\n",
      "1 3 5\n",
      "5\n",
      "2 3 6 7 9\n",
      "1 2 3 3 5 6 7 9 "
     ]
    }
   ],
   "source": [
    "# 풀이2 => 시간복잡도를 효율적으로 코드짜기\n",
    "n = int(input())\n",
    "listN = list(map(int,input().split()))\n",
    "m = int(input())\n",
    "listM = list(map(int,input().split()))\n",
    "p1 = p2 = 0\n",
    "nm = []\n",
    "while p1<n and p2<m:\n",
    "    if listN[p1] <= listM[p2]:\n",
    "        nm.append(listN[p1])\n",
    "        p1+=1\n",
    "    else:\n",
    "        nm.append(listM[p2])\n",
    "        p2+=1\n",
    "if p1<n:\n",
    "    nm = nm+listN[p1:]\n",
    "else:\n",
    "    nm = nm+listM[p2:]\n",
    "for x in nm:\n",
    "    print(x, end = ' ')"
   ]
  },
  {
   "cell_type": "code",
   "execution_count": null,
   "id": "918a8a85",
   "metadata": {},
   "outputs": [],
   "source": []
  }
 ],
 "metadata": {
  "kernelspec": {
   "display_name": "Python 3 (ipykernel)",
   "language": "python",
   "name": "python3"
  },
  "language_info": {
   "codemirror_mode": {
    "name": "ipython",
    "version": 3
   },
   "file_extension": ".py",
   "mimetype": "text/x-python",
   "name": "python",
   "nbconvert_exporter": "python",
   "pygments_lexer": "ipython3",
   "version": "3.9.7"
  }
 },
 "nbformat": 4,
 "nbformat_minor": 5
}
