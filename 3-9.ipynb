{
 "cells": [
  {
   "cell_type": "markdown",
   "id": "601b9a6e",
   "metadata": {},
   "source": [
    "N*N 격자판의 각 격자의 지역의 높이가 정수로 쓰여지도록 입력한다.\n",
    "\n",
    "격자의 테두리를 0으로 초기화 한 뒤,\n",
    "\n",
    "격자판의 숫자 중 상하좌우보다 높으면 봉우리라고 판단한다.\n",
    "\n",
    "출력은 봉우리 개수이다."
   ]
  },
  {
   "cell_type": "code",
   "execution_count": 1,
   "id": "6ee2ca27",
   "metadata": {},
   "outputs": [
    {
     "name": "stdout",
     "output_type": "stream",
     "text": [
      "5\n",
      "5 3 7 2 3\n",
      "3 7 1 6 1\n",
      "7 2 5 3 4\n",
      "4 3 6 4 1\n",
      "8 7 3 5 2\n",
      "10\n"
     ]
    }
   ],
   "source": [
    "# 내 풀이(정리)\n",
    "n = int(input())\n",
    "arr =[list(map(int,input().split())) for _ in range(n)]\n",
    "arr.insert(0, [0]*n)\n",
    "arr.insert(n+2-1, [0]*n)\n",
    "for x in arr:\n",
    "    x.insert(0,0)\n",
    "    x.insert(n+1,0)\n",
    "cnt = 0\n",
    "for i in range(1, n+1):\n",
    "    for j in range(1, n+1):\n",
    "        if arr[i][j]>arr[i-1][j] and arr[i][j]>arr[i][j-1] and arr[i][j]>arr[i][j+1] and arr[i][j]>arr[i+1][j]:\n",
    "            # print(arr[i][j])\n",
    "            cnt += 1\n",
    "print(cnt)"
   ]
  },
  {
   "cell_type": "code",
   "execution_count": 2,
   "id": "99fbe620",
   "metadata": {},
   "outputs": [
    {
     "name": "stdout",
     "output_type": "stream",
     "text": [
      "5\n",
      "5 3 7 2 3\n",
      "3 7 1 6 1\n",
      "7 2 5 3 4\n",
      "4 3 6 4 1\n",
      "8 7 3 5 2\n",
      "10\n"
     ]
    }
   ],
   "source": [
    "# 수업풀이\n",
    "n = int(input())\n",
    "arr =[list(map(int,input().split())) for _ in range(n)]\n",
    "arr.insert(0, [0]*n)\n",
    "arr.append([0]*n)\n",
    "for x in arr:\n",
    "    x.insert(0,0)\n",
    "    x.append(0)\n",
    "cnt=0\n",
    "dx = [-1,0,1,0]\n",
    "dy = [0,1,0,-1]\n",
    "for i in range(1, n+1):\n",
    "    for j in range(1, n+1):\n",
    "        if all(arr[i][j]>arr[i+dx[k]][j+dy[k]] for k in range(4)):\n",
    "            cnt +=1\n",
    "print(cnt)"
   ]
  },
  {
   "cell_type": "code",
   "execution_count": null,
   "id": "804a4fc7",
   "metadata": {},
   "outputs": [],
   "source": []
  }
 ],
 "metadata": {
  "kernelspec": {
   "display_name": "Python 3 (ipykernel)",
   "language": "python",
   "name": "python3"
  },
  "language_info": {
   "codemirror_mode": {
    "name": "ipython",
    "version": 3
   },
   "file_extension": ".py",
   "mimetype": "text/x-python",
   "name": "python",
   "nbconvert_exporter": "python",
   "pygments_lexer": "ipython3",
   "version": "3.9.7"
  }
 },
 "nbformat": 4,
 "nbformat_minor": 5
}
