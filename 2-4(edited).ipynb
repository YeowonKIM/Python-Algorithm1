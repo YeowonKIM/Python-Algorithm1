{
 "cells": [
  {
   "cell_type": "code",
   "execution_count": 1,
   "id": "f8077163",
   "metadata": {},
   "outputs": [
    {
     "name": "stdout",
     "output_type": "stream",
     "text": [
      "10\n",
      "45 73 66 87 92 67 75 79 75 80\n",
      "74 7\n"
     ]
    }
   ],
   "source": [
    "# 내 풀이\n",
    "n = int(input())\n",
    "scores = list(map(int,input().split()))\n",
    "total = 0\n",
    "\n",
    "for i in range(n):\n",
    "    total += scores[i]\n",
    "aver = total / n\n",
    "aver = round(aver) # 반올림\n",
    "\n",
    "# 평균이랑 각 학생 점수 차이 구하기\n",
    "gap = []\n",
    "for j in range(n):\n",
    "    gap.append(scores[j] - aver)\n",
    "\n",
    "# 각 점수 차이 절대값 구하기\n",
    "gap2 = []\n",
    "for k in range(n):\n",
    "    gap2.append(abs(gap[k])) # 절대값\n",
    "\n",
    "# 절대값에서 최솟값 구하기\n",
    "gap2Min = gap2[0]\n",
    "for m in range(1, n):\n",
    "    if gap2[m] < gap2Min:\n",
    "        gap2Min = gap2[m]\n",
    "\n",
    "sameScore = []\n",
    "for t in range(n):\n",
    "    if gap2Min == gap2[t]:\n",
    "        sameScore.append(scores[t])\n",
    "    else:\n",
    "        sameScore.append(0)\n",
    "\n",
    "sameMax = 0\n",
    "for x in sameScore:\n",
    "    if sameMax < x:\n",
    "        sameMax = x\n",
    "print(aver, end = ' ')\n",
    "print(sameScore.index(sameMax) +1)"
   ]
  },
  {
   "cell_type": "code",
   "execution_count": 2,
   "id": "3fa62ed0",
   "metadata": {},
   "outputs": [
    {
     "name": "stdout",
     "output_type": "stream",
     "text": [
      "10\n",
      "45 73 66 87 92 67 75 79 75 80\n",
      "74 7\n"
     ]
    }
   ],
   "source": [
    "# 수업 풀이\n",
    "n = int(input())\n",
    "a = list(map(int, input().split()))\n",
    "ave = round(sum(a)/n) # round()는 반올림 함수\n",
    "min = 2147000000 # 정수형 크기의 가장 큰 수가 이 정도\n",
    "# idx는 학생 번호, x는 점수 \n",
    "for idx, x in enumerate(a):\n",
    "    tmp = abs(x-ave) # abs()는 절댓값 함수\n",
    "    if tmp < min:\n",
    "        min = tmp\n",
    "        score = x # 답이 되는 점수\n",
    "        res = idx+1 # 답이 되는 학생의 번호\n",
    "    elif tmp == min:\n",
    "        if x > score:\n",
    "            score = x\n",
    "            res = idx+1\n",
    "print(ave, res)"
   ]
  },
  {
   "cell_type": "code",
   "execution_count": 3,
   "id": "4afb35cc",
   "metadata": {},
   "outputs": [
    {
     "name": "stdout",
     "output_type": "stream",
     "text": [
      "4\n",
      "5\n",
      "6\n",
      "67\n"
     ]
    }
   ],
   "source": [
    "# 대표값 오류 수정\n",
    "# 파이썬에서 round 함수는 round_half_even 방식을 택한다.\n",
    "# round_half_even 방식에서는 0.5 완전 반절일 때 짝수 쪽으로 간다.\n",
    "a = 4.500\n",
    "print(round(a))\n",
    "aplus = 4.511\n",
    "print(round(aplus))\n",
    "b = 5.500\n",
    "print(round(b))\n",
    "\n",
    "# 해결\n",
    "c = 66.6\n",
    "c = c+0.5\n",
    "c = int(c)\n",
    "print(c)"
   ]
  },
  {
   "cell_type": "code",
   "execution_count": 4,
   "id": "24b5157a",
   "metadata": {},
   "outputs": [
    {
     "name": "stdout",
     "output_type": "stream",
     "text": [
      "10\n",
      "45 73 66 87 92 67 75 79 75 80\n",
      "74 7\n"
     ]
    }
   ],
   "source": [
    "# 수정코드\n",
    "n = int(input())\n",
    "a = list(map(int, input().split()))\n",
    "ave = sum(a)/n # round()는 반올림 함수\n",
    "ave = ave+0.5\n",
    "ave = int(ave)\n",
    "# print(ave)\n",
    "min = 2147000000 # 정수형 크기의 가장 큰 수가 이 정도\n",
    "# idx는 학생 번호, x는 점수 \n",
    "for idx, x in enumerate(a):\n",
    "    tmp = abs(x-ave) # abs()는 절댓값 함수\n",
    "    if tmp < min:\n",
    "        min = tmp\n",
    "        score = x # 답이 되는 점수\n",
    "        res = idx+1 # 답이 되는 학생의 번호\n",
    "    elif tmp == min:\n",
    "        if x > score:\n",
    "            score = x\n",
    "            res = idx+1\n",
    "print(ave, res)\n"
   ]
  },
  {
   "cell_type": "code",
   "execution_count": null,
   "id": "42e9bfaf",
   "metadata": {},
   "outputs": [],
   "source": []
  }
 ],
 "metadata": {
  "kernelspec": {
   "display_name": "Python 3 (ipykernel)",
   "language": "python",
   "name": "python3"
  },
  "language_info": {
   "codemirror_mode": {
    "name": "ipython",
    "version": 3
   },
   "file_extension": ".py",
   "mimetype": "text/x-python",
   "name": "python",
   "nbconvert_exporter": "python",
   "pygments_lexer": "ipython3",
   "version": "3.9.7"
  }
 },
 "nbformat": 4,
 "nbformat_minor": 5
}
