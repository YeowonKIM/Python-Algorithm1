{
 "cells": [
  {
   "cell_type": "markdown",
   "id": "f1c4ba7c",
   "metadata": {},
   "source": [
    "두 개의 정N면체와 정M면체의 주사위를 던진다.\n",
    "나올 수 있는 눈의 합 중 가장 많이 나오는 숫자를 출력하는 프로그램.\n",
    "(복수 정답일 경우 오름차순으로 출력할 것)"
   ]
  },
  {
   "cell_type": "code",
   "execution_count": 2,
   "id": "4f614dfd",
   "metadata": {},
   "outputs": [
    {
     "name": "stdout",
     "output_type": "stream",
     "text": [
      "4 6\n",
      "5 6 7 "
     ]
    }
   ],
   "source": [
    "# 풀이\n",
    "n, m = map(int, input().split())\n",
    "nplusm = []\n",
    "for i in range(n+m+2):\n",
    "    nplusm.append(0)\n",
    "for i in range(1, n+1):\n",
    "    for j in range(1, m+1):\n",
    "        addi = i+j\n",
    "        nplusm[addi] += 1\n",
    "# print(nplusm)\n",
    "\n",
    "addiMax = 0\n",
    "for k in range(n+m+2):\n",
    "    if nplusm[k] > addiMax:\n",
    "        addiMax = nplusm[k]\n",
    "for t in range(n+m+2):\n",
    "    if nplusm[t] == addiMax:\n",
    "        print(t, end = ' ')"
   ]
  },
  {
   "cell_type": "code",
   "execution_count": 6,
   "id": "c80e71c5",
   "metadata": {},
   "outputs": [
    {
     "name": "stdout",
     "output_type": "stream",
     "text": [
      "4 6\n"
     ]
    }
   ],
   "source": [
    "# 수업 풀이\n",
    "n, m = map(int, input().split())\n",
    "cnt = [0]*(n+m+3)\n",
    "cntMax = 2147000000\n",
    "for i in range(1, n+1):\n",
    "    for j in range(1, m+1):\n",
    "        cnt[i+j] += 1\n",
    "for i in range(n+m+1):\n",
    "    if cnt[i] > cntMax:\n",
    "        cntMax=cnt[i]\n",
    "for i in range(n+m+1):\n",
    "    if cnt[i] == cntMax:\n",
    "        print(i, end = ' ')"
   ]
  },
  {
   "cell_type": "code",
   "execution_count": null,
   "id": "ad01ee94",
   "metadata": {},
   "outputs": [],
   "source": []
  }
 ],
 "metadata": {
  "kernelspec": {
   "display_name": "Python 3 (ipykernel)",
   "language": "python",
   "name": "python3"
  },
  "language_info": {
   "codemirror_mode": {
    "name": "ipython",
    "version": 3
   },
   "file_extension": ".py",
   "mimetype": "text/x-python",
   "name": "python",
   "nbconvert_exporter": "python",
   "pygments_lexer": "ipython3",
   "version": "3.9.7"
  }
 },
 "nbformat": 4,
 "nbformat_minor": 5
}
