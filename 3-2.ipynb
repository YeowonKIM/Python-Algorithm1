{
 "cells": [
  {
   "cell_type": "markdown",
   "id": "e0e57dec",
   "metadata": {},
   "source": [
    "문자와 숫자가 섞인 문자열을 입력받는다.\n",
    "\n",
    "그 중에서 숫자만 추출하고 자연수를 만든 후, 자연수의 약수의 개수를 출력한다.\n",
    "\n",
    "(숫자만 추출해서 자연수를 만들 경우 앞에 0은 무시할 것)"
   ]
  },
  {
   "cell_type": "code",
   "execution_count": 16,
   "id": "12ed76d9",
   "metadata": {},
   "outputs": [
    {
     "name": "stdout",
     "output_type": "stream",
     "text": [
      "Akdj0Gk1dgdgdAGSGAG3DGGA45GAGADGDGdjADG2SDGkdj0f\n",
      "134520\n",
      "64\n"
     ]
    }
   ],
   "source": [
    "sen = input()\n",
    "num = ['0','1','2','3','4','5','6','7','8','9']\n",
    "numOnly = '0'\n",
    "for i in range(len(sen)):\n",
    "    if sen[i] in num:\n",
    "        # print(sen[i])\n",
    "        numOnly += sen[i]\n",
    "numOnly = int(numOnly)\n",
    "print(numOnly)\n",
    "count = 0\n",
    "for i in range(1, numOnly+1):\n",
    "    if numOnly % i == 0:\n",
    "        count += 1\n",
    "print(count)"
   ]
  },
  {
   "cell_type": "code",
   "execution_count": 22,
   "id": "3cf95df5",
   "metadata": {},
   "outputs": [
    {
     "name": "stdout",
     "output_type": "stream",
     "text": [
      "g0en2Ts8eSoft\n",
      "28\n",
      "6\n"
     ]
    }
   ],
   "source": [
    "# 수업풀이\n",
    "s = input()\n",
    "res  = 0\n",
    "for x in s:\n",
    "    # isdecimal : 0~9 찾아 줌 / isdigit : 진수같은 숫자도 다 찾아줌.\n",
    "    if x.isdecimal():\n",
    "        res = res*10+int(x)\n",
    "print(res)\n",
    "cnt = 0\n",
    "for i in range(1, res+1):\n",
    "    if res%i == 0:\n",
    "        cnt += 1\n",
    "print(cnt)"
   ]
  },
  {
   "cell_type": "code",
   "execution_count": null,
   "id": "e43bed48",
   "metadata": {},
   "outputs": [],
   "source": []
  },
  {
   "cell_type": "code",
   "execution_count": null,
   "id": "62afa200",
   "metadata": {},
   "outputs": [],
   "source": []
  }
 ],
 "metadata": {
  "kernelspec": {
   "display_name": "Python 3 (ipykernel)",
   "language": "python",
   "name": "python3"
  },
  "language_info": {
   "codemirror_mode": {
    "name": "ipython",
    "version": 3
   },
   "file_extension": ".py",
   "mimetype": "text/x-python",
   "name": "python",
   "nbconvert_exporter": "python",
   "pygments_lexer": "ipython3",
   "version": "3.9.7"
  }
 },
 "nbformat": 4,
 "nbformat_minor": 5
}
