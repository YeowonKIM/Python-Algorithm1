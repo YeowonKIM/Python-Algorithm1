{
 "cells": [
  {
   "cell_type": "markdown",
   "id": "0f0a07f6",
   "metadata": {},
   "source": [
    "5*5 격차판에 숫자가 적혀있다.\n",
    "5개의 행의 합과 열의 합, 2개의 대각선의 합 중에서 가장 큰 합을 출력하는 프로그램."
   ]
  },
  {
   "cell_type": "code",
   "execution_count": 3,
   "id": "4f3b8578",
   "metadata": {},
   "outputs": [
    {
     "name": "stdout",
     "output_type": "stream",
     "text": [
      "5\n",
      "10 13 10 12 15\n",
      "12 39 30 23 11\n",
      "11 25 50 53 15\n",
      "19 27 29 37 27\n",
      "19 13 30 13 19\n",
      "155\n"
     ]
    }
   ],
   "source": [
    "# 내 풀이\n",
    "n = int(input())\n",
    "arr =[list(map(int,input().split())) for _ in range(n)]\n",
    "largest = 0\n",
    "tot =[]\n",
    "for i in range(n):\n",
    "    sum1=sum2=0\n",
    "    for j in range(n):\n",
    "        sum1 += arr[i][j]\n",
    "        sum2 += arr[j][i]\n",
    "        tot.append(sum1)\n",
    "        tot.append(sum2)\n",
    "sum1=sum2=0\n",
    "for i in range(n):\n",
    "    sum1+=arr[i][i]\n",
    "    sum2+=arr[i][n-i-1]\n",
    "    tot.append(sum1)\n",
    "    tot.append(sum2)\n",
    "maxSum = 0\n",
    "for x in tot:\n",
    "    if x>maxSum:\n",
    "        maxSum=x\n",
    "print(maxSum)"
   ]
  },
  {
   "cell_type": "code",
   "execution_count": 4,
   "id": "65720d53",
   "metadata": {},
   "outputs": [
    {
     "name": "stdout",
     "output_type": "stream",
     "text": [
      "5\n",
      "10 13 10 12 15\n",
      "12 39 30 23 11\n",
      "11 25 50 53 15\n",
      "19 27 29 37 27\n",
      "19 13 30 13 19\n",
      "155\n"
     ]
    }
   ],
   "source": [
    "# 수업풀이\n",
    "n = int(input())\n",
    "arr =[list(map(int,input().split())) for _ in range(n)]\n",
    "largest = -2147000000\n",
    "for i in range(n):\n",
    "    sum1=sum2=0\n",
    "    for j in range(n):\n",
    "        sum1 += arr[i][j]\n",
    "        sum2 += arr[j][i]\n",
    "    if sum1>largest:\n",
    "        largest = sum1\n",
    "    if sum2>largest:\n",
    "        largest=sum2\n",
    "sum1=sum2=0\n",
    "for i in range(n):\n",
    "    sum1+=arr[i][i]\n",
    "    sum2+=arr[i][n-i-1]\n",
    "if sum1>largest:\n",
    "    largest = sum1\n",
    "if sum2>largest:\n",
    "    largest=sum2 \n",
    "print(largest)"
   ]
  },
  {
   "cell_type": "code",
   "execution_count": null,
   "id": "aefabd52",
   "metadata": {},
   "outputs": [],
   "source": []
  }
 ],
 "metadata": {
  "kernelspec": {
   "display_name": "Python 3 (ipykernel)",
   "language": "python",
   "name": "python3"
  },
  "language_info": {
   "codemirror_mode": {
    "name": "ipython",
    "version": 3
   },
   "file_extension": ".py",
   "mimetype": "text/x-python",
   "name": "python",
   "nbconvert_exporter": "python",
   "pygments_lexer": "ipython3",
   "version": "3.9.7"
  }
 },
 "nbformat": 4,
 "nbformat_minor": 5
}
