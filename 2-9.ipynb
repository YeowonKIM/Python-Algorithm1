{
 "cells": [
  {
   "cell_type": "markdown",
   "id": "a0fdd0db",
   "metadata": {},
   "source": [
    "1에서부터 6까지의 눈을 가진 3개의 주사위를 던져서 다음과 같은 규칙에 따라 상금을 받는 게임.\n",
    "\n",
    "규칙(1) 같은 눈이 3개 -> 상금: 10,000원+(같은 눈)*1,000원\n",
    "규칙(2) 같은 눈이 2개 -> 상금:  1,000원+(같은 눈)*100원\n",
    "규칙(3) 모두 다른 눈이 나오는 경우-> (그 중 가장 큰 눈)*100원\n",
    "\n",
    "N명이 주사위 게임에 참여하였을 때, 가장 큰 상금을 출력하는 프로그램."
   ]
  },
  {
   "cell_type": "code",
   "execution_count": 1,
   "id": "a0c178c7",
   "metadata": {},
   "outputs": [
    {
     "name": "stdout",
     "output_type": "stream",
     "text": [
      "3\n",
      "3 3 6\n",
      "2 2 2\n",
      "6 2 5\n",
      "12000\n"
     ]
    }
   ],
   "source": [
    "# 내 풀이\n",
    "n = int(input())\n",
    "num = []\n",
    "for i in range(n):\n",
    "        a, b, c = map(int,input().split())\n",
    "        num.append(a)\n",
    "        num.append(b)\n",
    "        num.append(c)\n",
    "\n",
    "prize = []\n",
    "for i in range(0,len(num)-2,3):\n",
    "    if num[i] == num[i+1] == num[i+2]:\n",
    "        amount = 10000 + num[i]*1000\n",
    "        prize.append(amount)\n",
    "    elif num[i] == num[i+1] or num[i] == num[i+2]:\n",
    "        amount = 1000 + num[i]*100\n",
    "        prize.append(amount)\n",
    "    elif num[i+1] == num[i+2]:\n",
    "        amount = 1000 + num[i+1]*100\n",
    "        prize.append(amount)\n",
    "    else:\n",
    "        smallNum = [num[i],num[i+1],num[i+2]]\n",
    "        smallNum.sort()\n",
    "        # print(smallNum)\n",
    "        amount = smallNum[2]*100\n",
    "        prize.append(amount)\n",
    "prize.sort()\n",
    "print(prize[-1])"
   ]
  },
  {
   "cell_type": "code",
   "execution_count": 4,
   "id": "5ae1a726",
   "metadata": {},
   "outputs": [
    {
     "name": "stdout",
     "output_type": "stream",
     "text": [
      "3\n",
      "3 3 6\n",
      "2 2 2\n",
      "6 2 5\n",
      "12000\n"
     ]
    }
   ],
   "source": [
    "# 수업 풀이\n",
    "n = int(input())\n",
    "res = 0\n",
    "for i in range(n):\n",
    "    tmp = input().split() # 리스트 형태로 저장됨, 개수 상관없이 입력받고 이따 정수로 바꿈\n",
    "    #print(tmp)\n",
    "    tmp.sort()\n",
    "    a, b, c = map(int, tmp) # 기억하기\n",
    "    #print(a, b, c)\n",
    "    if a == b and b ==c:\n",
    "        money = 10000 + a*1000\n",
    "    elif a == b or a==c:\n",
    "        money = 1000 + a*100\n",
    "    elif b == c:\n",
    "        money = 1000 + b*100\n",
    "    else:\n",
    "        money =c*100\n",
    "    if money>res:\n",
    "        res = money\n",
    "print(res)"
   ]
  },
  {
   "cell_type": "code",
   "execution_count": null,
   "id": "a4ee29d5",
   "metadata": {},
   "outputs": [],
   "source": []
  }
 ],
 "metadata": {
  "kernelspec": {
   "display_name": "Python 3 (ipykernel)",
   "language": "python",
   "name": "python3"
  },
  "language_info": {
   "codemirror_mode": {
    "name": "ipython",
    "version": 3
   },
   "file_extension": ".py",
   "mimetype": "text/x-python",
   "name": "python",
   "nbconvert_exporter": "python",
   "pygments_lexer": "ipython3",
   "version": "3.9.7"
  }
 },
 "nbformat": 4,
 "nbformat_minor": 5
}
