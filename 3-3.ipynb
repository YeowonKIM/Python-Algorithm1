{
 "cells": [
  {
   "cell_type": "markdown",
   "id": "50458e28",
   "metadata": {},
   "source": [
    "1부터 20까지의 카드가 오름차순으로 정렬되어 있다.\n",
    "구간 a에서 b까지를 입력받고 해당 구간 동안 카드를 역순으로 바꾼다.\n",
    "이 과정을 10번 반복한 뒤 카드의 순서를 출력한다."
   ]
  },
  {
   "cell_type": "code",
   "execution_count": 1,
   "id": "8207ca08",
   "metadata": {},
   "outputs": [
    {
     "name": "stdout",
     "output_type": "stream",
     "text": [
      "5 10\n",
      "9 13\n",
      "1 2\n",
      "3 4\n",
      "5 6\n",
      "1 2\n",
      "3 4\n",
      "5 6\n",
      "1 20\n",
      "1 20\n",
      "[1, 2, 3, 4, 10, 9, 8, 7, 13, 12, 11, 5, 6, 14, 15, 16, 17, 18, 19, 20]\n"
     ]
    }
   ],
   "source": [
    "cards = list(range(1, 21))\n",
    "for i in range(10):\n",
    "    a, b = map(int, input().split())\n",
    "    cut = cards[a-1:b]\n",
    "    cut.reverse()\n",
    "    # print(cut)\n",
    "    cards[a-1:b] = cut\n",
    "print(cards)"
   ]
  },
  {
   "cell_type": "code",
   "execution_count": 2,
   "id": "2928c2d8",
   "metadata": {},
   "outputs": [
    {
     "name": "stdout",
     "output_type": "stream",
     "text": [
      "5 10\n",
      "9 13\n",
      "1 2\n",
      "3 4\n",
      "5 6\n",
      "1 2\n",
      "3 4\n",
      "5 6\n",
      "1 20\n",
      "1 20\n",
      "1 2 3 4 10 9 8 7 13 12 11 5 6 14 15 16 17 18 19 20 "
     ]
    }
   ],
   "source": [
    "a = list(range(21))\n",
    "for _ in range(10): # 변수 없이 10번 반복하는 거\n",
    "    s, e = map(int, input().split())\n",
    "    for i in range((e-s+1)//2):\n",
    "        a[s+i], a[e-i] = a[e-i], a[s+i]\n",
    "a.pop(0) # 0번 인덱스 pop하기 / 그냥 pop()하면 맨 뒤에꺼 pop됨.\n",
    "for x in a:\n",
    "    print(x, end = \" \")"
   ]
  },
  {
   "cell_type": "code",
   "execution_count": null,
   "id": "2ec65907",
   "metadata": {},
   "outputs": [],
   "source": []
  }
 ],
 "metadata": {
  "kernelspec": {
   "display_name": "Python 3 (ipykernel)",
   "language": "python",
   "name": "python3"
  },
  "language_info": {
   "codemirror_mode": {
    "name": "ipython",
    "version": 3
   },
   "file_extension": ".py",
   "mimetype": "text/x-python",
   "name": "python",
   "nbconvert_exporter": "python",
   "pygments_lexer": "ipython3",
   "version": "3.9.7"
  }
 },
 "nbformat": 4,
 "nbformat_minor": 5
}
