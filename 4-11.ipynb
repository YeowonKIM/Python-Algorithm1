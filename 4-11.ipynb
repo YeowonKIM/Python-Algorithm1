{
 "cells": [
  {
   "cell_type": "code",
   "execution_count": null,
   "id": "f7f0871e",
   "metadata": {},
   "outputs": [],
   "source": [
    "<문제설명>\n",
    "\n",
    "임의의 숫자 n개를 입력받는다.\n",
    "n개의 수를 오름차순으로 정렬한 후,  이분검색으로 n개 수 중 하나인 m을  정렬된 상태에서\n",
    "몇 번째에 있는지 구하는 프로그램을 작성하시오.\n",
    "\n",
    "*입력 : n,m \n",
    "       n개의 수들"
   ]
  },
  {
   "cell_type": "code",
   "execution_count": 13,
   "id": "0313891b",
   "metadata": {
    "scrolled": true
   },
   "outputs": [
    {
     "name": "stdout",
     "output_type": "stream",
     "text": [
      "8 32\n",
      "23 87 65 12 57 32 99 81\n",
      "3\n"
     ]
    }
   ],
   "source": [
    "# 풀이1\n",
    "n, m = map(int,input().split())\n",
    "num = list(map(int,input().split()))\n",
    "num.sort()\n",
    "for i in range(len(num)):\n",
    "    if num[i] == m:\n",
    "        print(i+1)"
   ]
  },
  {
   "cell_type": "code",
   "execution_count": 17,
   "id": "69c78f7f",
   "metadata": {},
   "outputs": [
    {
     "name": "stdout",
     "output_type": "stream",
     "text": [
      "8 32\n",
      "23 87 65 12 57 32 99 81\n",
      "3\n"
     ]
    }
   ],
   "source": [
    "# 풀이2 (이분 검색)\n",
    "n, m = map(int,input().split())\n",
    "num = list(map(int,input().split()))\n",
    "num.sort()\n",
    "lt=0; rt=n-1\n",
    "while lt<=rt:\n",
    "    mid = (lt+rt)//2\n",
    "    if m==num[mid]:\n",
    "        print(mid+1)\n",
    "        break\n",
    "    elif m<num[mid]:\n",
    "        rt = mid -1\n",
    "    else:\n",
    "        lt = mid+1"
   ]
  },
  {
   "cell_type": "code",
   "execution_count": null,
   "id": "8ee3e502",
   "metadata": {},
   "outputs": [],
   "source": []
  }
 ],
 "metadata": {
  "kernelspec": {
   "display_name": "Python 3 (ipykernel)",
   "language": "python",
   "name": "python3"
  },
  "language_info": {
   "codemirror_mode": {
    "name": "ipython",
    "version": 3
   },
   "file_extension": ".py",
   "mimetype": "text/x-python",
   "name": "python",
   "nbconvert_exporter": "python",
   "pygments_lexer": "ipython3",
   "version": "3.9.7"
  }
 },
 "nbformat": 4,
 "nbformat_minor": 5
}
