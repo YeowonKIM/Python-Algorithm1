{
 "cells": [
  {
   "cell_type": "code",
   "execution_count": null,
   "id": "348f4ecc",
   "metadata": {},
   "outputs": [],
   "source": [
    "N개의 수로 된 수열이 있다. (A[1], A[2], ..., A[N]\n",
    "이 수열의 부분 수열의 합이 M이 되는 경우의 수를 구하는 프로그램.\n",
    "(A[i],A[i+1], ...+A[j-1],A[j])"
   ]
  },
  {
   "cell_type": "code",
   "execution_count": 1,
   "id": "0257bc97",
   "metadata": {},
   "outputs": [
    {
     "name": "stdout",
     "output_type": "stream",
     "text": [
      "8 3\n",
      "1 2 1 3 1 1 1 2\n",
      "5\n"
     ]
    }
   ],
   "source": [
    "#수업풀이\n",
    "n, m = map(int,input().split())\n",
    "seq = list(map(int,input().split()))\n",
    "lt=0;rt=1;cnt=0;tot=seq[0]\n",
    "while True:\n",
    "    if tot<m:\n",
    "        if rt<n:\n",
    "            tot+=seq[rt]\n",
    "            rt+=1\n",
    "        else:\n",
    "            break\n",
    "    elif tot==m:\n",
    "        cnt+=1\n",
    "        tot-=seq[lt]\n",
    "        lt+=1\n",
    "    else:\n",
    "        tot-=seq[lt]\n",
    "        lt+=1\n",
    "print(cnt)"
   ]
  },
  {
   "cell_type": "code",
   "execution_count": null,
   "id": "14eb4184",
   "metadata": {},
   "outputs": [],
   "source": []
  }
 ],
 "metadata": {
  "kernelspec": {
   "display_name": "Python 3 (ipykernel)",
   "language": "python",
   "name": "python3"
  },
  "language_info": {
   "codemirror_mode": {
    "name": "ipython",
    "version": 3
   },
   "file_extension": ".py",
   "mimetype": "text/x-python",
   "name": "python",
   "nbconvert_exporter": "python",
   "pygments_lexer": "ipython3",
   "version": "3.9.7"
  }
 },
 "nbformat": 4,
 "nbformat_minor": 5
}
