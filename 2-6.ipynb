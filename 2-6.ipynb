{
 "cells": [
  {
   "cell_type": "markdown",
   "id": "de1ede66",
   "metadata": {},
   "source": [
    "N개의 자연수를 입력받고 각각의 수의 자릿수의 합을 구한 뒤,\n",
    "그 합이 최대인 자연수를 출력하는 프로그램.\n",
    "(자연수의 자릿수의 합을 구하는 함수를 정의할 것)"
   ]
  },
  {
   "cell_type": "code",
   "execution_count": 1,
   "id": "510478d4",
   "metadata": {},
   "outputs": [
    {
     "name": "stdout",
     "output_type": "stream",
     "text": [
      "3 \n",
      "125 15232 97\n",
      "97\n"
     ]
    }
   ],
   "source": [
    "# 내풀이 \n",
    "n = int(input())\n",
    "num = list(map(int, input().split()))\n",
    "def digit_sum(x):\n",
    "    st = 0\n",
    "    x = str(x)\n",
    "    for i in range(len(x)):\n",
    "        st += int(x[i])\n",
    "    return st\n",
    "\n",
    "numMax = 0\n",
    "for x in num:\n",
    "    if numMax < digit_sum(x):\n",
    "        numMax = digit_sum(x)\n",
    "        answer = x\n",
    "print(answer)"
   ]
  },
  {
   "cell_type": "code",
   "execution_count": null,
   "id": "de834d1b",
   "metadata": {},
   "outputs": [],
   "source": []
  }
 ],
 "metadata": {
  "kernelspec": {
   "display_name": "Python 3 (ipykernel)",
   "language": "python",
   "name": "python3"
  },
  "language_info": {
   "codemirror_mode": {
    "name": "ipython",
    "version": 3
   },
   "file_extension": ".py",
   "mimetype": "text/x-python",
   "name": "python",
   "nbconvert_exporter": "python",
   "pygments_lexer": "ipython3",
   "version": "3.9.7"
  }
 },
 "nbformat": 4,
 "nbformat_minor": 5
}
