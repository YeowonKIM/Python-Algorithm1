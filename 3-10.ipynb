{
 "cells": [
  {
   "cell_type": "markdown",
   "id": "4e16db3e",
   "metadata": {},
   "source": [
    "<문제 설명>\n",
    "스도쿠를 맞게 푼 경우 Yes, 잘못 푼 경우 No를 출력하는 프로그램 만들기.\n",
    "스도쿠 : 9X9 격자판에 각 행과 열, 9개의 작은 3X3의 격자판에 1~9까지 중복없이 채우는 게임\n",
    "\n",
    "https://fraisekim.tistory.com/25"
   ]
  },
  {
   "cell_type": "code",
   "execution_count": 1,
   "id": "4abbba81",
   "metadata": {},
   "outputs": [
    {
     "name": "stdout",
     "output_type": "stream",
     "text": [
      "1 4 3 6 2 8 5 7 9\n",
      "5 7 2 1 3 9 4 6 8\n",
      "9 8 6 7 5 4 2 3 1\n",
      "3 9 1 5 4 2 7 8 6\n",
      "4 6 8 9 1 7 3 5 2\n",
      "7 2 5 8 6 3 9 1 4\n",
      "2 3 7 4 8 1 6 9 5\n",
      "6 1 9 2 7 5 8 4 3\n",
      "8 5 4 3 9 6 1 2 7\n",
      "Yes\n"
     ]
    }
   ],
   "source": [
    "def check (a):\n",
    "    for i in range(9):\n",
    "        ch1 = [0]*10\n",
    "        ch2 = [0]*10\n",
    "        for j in range(9):\n",
    "            ch1[a[i][j]] = 1\n",
    "            ch2[a[j][i]] = 1\n",
    "        if sum(ch1) != 9 or sum(ch2) != 9:\n",
    "            return False\n",
    "    for i in range(3):\n",
    "        for j in range(3):\n",
    "            ch3 = [0]*10\n",
    "            for k in range(3):\n",
    "                for s in range(3):\n",
    "                    ch3[a[i*3+k][j*3+s]] = 1\n",
    "            if sum(ch3) !=9:\n",
    "                return False\n",
    "    return True\n",
    "    \n",
    "a = [list(map(int,input().split())) for _ in range(9)]\n",
    "if check(a):\n",
    "    print(\"Yes\")\n",
    "else:\n",
    "    print(\"No\")"
   ]
  },
  {
   "cell_type": "code",
   "execution_count": null,
   "id": "33130aae",
   "metadata": {},
   "outputs": [],
   "source": []
  }
 ],
 "metadata": {
  "kernelspec": {
   "display_name": "Python 3 (ipykernel)",
   "language": "python",
   "name": "python3"
  },
  "language_info": {
   "codemirror_mode": {
    "name": "ipython",
    "version": 3
   },
   "file_extension": ".py",
   "mimetype": "text/x-python",
   "name": "python",
   "nbconvert_exporter": "python",
   "pygments_lexer": "ipython3",
   "version": "3.9.7"
  }
 },
 "nbformat": 4,
 "nbformat_minor": 5
}
