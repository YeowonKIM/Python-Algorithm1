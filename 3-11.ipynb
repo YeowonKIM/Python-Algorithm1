{
 "cells": [
  {
   "cell_type": "code",
   "execution_count": null,
   "id": "5b62ad9b",
   "metadata": {},
   "outputs": [],
   "source": [
    "<문제 설명>\n",
    "\n",
    "1~9까지 자연수로 채워진 7X7 격자판이 있다.\n",
    "가로방향 또는 세로 방향에서 5자리 회문수가 몇 개 있는지 구하는 프로그램을 작성하시오.\n",
    "(*회문수 :  12321과 같이 앞에서 읽으나 뒤에서 읽으나 같은 수)\n",
    "단, 같은 행에서 혹은 열에서 5개가 연이어 있어야 한다. (꺾이는 모양은 안 됨)"
   ]
  },
  {
   "cell_type": "code",
   "execution_count": 7,
   "id": "367aabcc",
   "metadata": {
    "scrolled": true
   },
   "outputs": [
    {
     "name": "stdout",
     "output_type": "stream",
     "text": [
      "9 6 3 3 3 6 8 \n",
      "3 8 6 6 7 6 6 \n",
      "7 2 2 6 3 8 1 \n",
      "4 2 8 2 8 9 3 \n",
      "7 7 6 1 9 6 1 \n",
      "7 3 7 2 3 5 6\n",
      "4 3 6 6 4 6 6\n",
      "5\n"
     ]
    }
   ],
   "source": [
    "# 풀이1\n",
    "a = [list(map(int,input().split())) for _ in range(7)]\n",
    "cnt=0\n",
    "\n",
    "# 행\n",
    "for i in range(7):\n",
    "    for j in range(2,5):\n",
    "        if a[i][j-1] == a[i][j+1] and a[i][j-2] == a[i][j+2]:\n",
    "            cnt += 1\n",
    "#열\n",
    "for j in range(7):\n",
    "    for i in range(2,5):\n",
    "        if a[i-1][j] == a[i+1][j] and a[i-2][j] == a[i+2][j]:\n",
    "            cnt += 1\n",
    "print(cnt)"
   ]
  },
  {
   "cell_type": "code",
   "execution_count": 2,
   "id": "bbd04615",
   "metadata": {},
   "outputs": [
    {
     "name": "stdout",
     "output_type": "stream",
     "text": [
      "9 6 3 3 3 6 8 \n",
      "3 8 6 6 7 6 6 \n",
      "7 2 2 6 3 8 1 \n",
      "4 2 8 2 8 9 3 \n",
      "7 7 6 1 9 6 1 \n",
      "7 3 7 2 3 5 6\n",
      "4 3 6 6 4 6 6\n",
      "5\n"
     ]
    }
   ],
   "source": [
    "# 풀이2\n",
    "board = [list(map(int,input().split())) for _ in range(7)]\n",
    "cnt = 0\n",
    "for i in range(3):\n",
    "    for j in range(7):\n",
    "        tmp = board[j][i:i+5] # 슬라이싱은 행만 가능\n",
    "        if tmp == tmp[::-1]:\n",
    "            cnt+=1\n",
    "        for k in range(2):\n",
    "            if board[i+k][j] != board[i+5-k-1][j]:\n",
    "                break\n",
    "        else:\n",
    "            cnt+=1 \n",
    "print(cnt)"
   ]
  },
  {
   "cell_type": "code",
   "execution_count": null,
   "id": "5280a297",
   "metadata": {},
   "outputs": [],
   "source": []
  }
 ],
 "metadata": {
  "kernelspec": {
   "display_name": "Python 3 (ipykernel)",
   "language": "python",
   "name": "python3"
  },
  "language_info": {
   "codemirror_mode": {
    "name": "ipython",
    "version": 3
   },
   "file_extension": ".py",
   "mimetype": "text/x-python",
   "name": "python",
   "nbconvert_exporter": "python",
   "pygments_lexer": "ipython3",
   "version": "3.9.7"
  }
 },
 "nbformat": 4,
 "nbformat_minor": 5
}
