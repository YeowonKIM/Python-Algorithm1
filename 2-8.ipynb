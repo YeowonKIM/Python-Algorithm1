{
 "cells": [
  {
   "cell_type": "markdown",
   "id": "ff8b31ba",
   "metadata": {},
   "source": [
    "N개의 자연수를 입력받고 뒤집은 뒤, 그 수가 소수이면 출력한다.\n",
    "(입력받은 수를 뒤집을 때와 소수를 판별할 때 함수를 정의할 것)"
   ]
  },
  {
   "cell_type": "code",
   "execution_count": 1,
   "id": "4e5163be",
   "metadata": {},
   "outputs": [
    {
     "name": "stdout",
     "output_type": "stream",
     "text": [
      "5\n",
      "32 55 62 3700 250\n",
      "23 73 "
     ]
    }
   ],
   "source": [
    "# 풀이1\n",
    "n = int(input())\n",
    "nums = list(map(int,input().split()))\n",
    "def reverse(x):\n",
    "    x = str(x)\n",
    "    new = ''\n",
    "    for i in range(len(x)-1,-1,-1):\n",
    "        new += x[i]\n",
    "    return int(new)\n",
    "def isPrime(x):\n",
    "    emp = []\n",
    "    for i in range(1,x+1):\n",
    "        if x%i == 0:\n",
    "            emp.append(i)\n",
    "    return len(emp) == 2\n",
    "\n",
    "for num in nums:\n",
    "    rev = reverse(num)\n",
    "    if isPrime(rev):\n",
    "        print(rev, end = ' ')"
   ]
  },
  {
   "cell_type": "code",
   "execution_count": null,
   "id": "d2555111",
   "metadata": {},
   "outputs": [],
   "source": [
    "# 풀이2 (수업풀이)"
   ]
  },
  {
   "cell_type": "code",
   "execution_count": null,
   "id": "17ecf273",
   "metadata": {},
   "outputs": [],
   "source": []
  }
 ],
 "metadata": {
  "kernelspec": {
   "display_name": "Python 3 (ipykernel)",
   "language": "python",
   "name": "python3"
  },
  "language_info": {
   "codemirror_mode": {
    "name": "ipython",
    "version": 3
   },
   "file_extension": ".py",
   "mimetype": "text/x-python",
   "name": "python",
   "nbconvert_exporter": "python",
   "pygments_lexer": "ipython3",
   "version": "3.9.7"
  }
 },
 "nbformat": 4,
 "nbformat_minor": 5
}
