{
 "cells": [
  {
   "cell_type": "markdown",
   "id": "206e3a3a",
   "metadata": {},
   "source": [
    "< 문제 >\n",
    "\n",
    "N개의 문자열 데이터를 입력 받는다.\n",
    "입력받은 문자열이 데칼코마니처럼 앞에서 읽었을 때와 뒤에서 읽었을 때가 같으면(회문 문자열이면)\n",
    "YES를 출력하고, 아니면 NO를 출력한다. \n",
    "(*문자열의 대소문자 구분하지 않는다.)"
   ]
  },
  {
   "cell_type": "code",
   "execution_count": 1,
   "id": "ebbeb7ac",
   "metadata": {},
   "outputs": [
    {
     "name": "stdout",
     "output_type": "stream",
     "text": [
      "5\n",
      "level\n",
      "#1 YES\n",
      "moon\n",
      "#2 NO\n",
      "abcba\n",
      "#3 YES\n",
      "soon\n",
      "#4 NO\n",
      "gooG\n",
      "#5 YES\n"
     ]
    }
   ],
   "source": [
    "# 내 풀이\n",
    "n = int(input())\n",
    "for i in range(n):\n",
    "    a = input()\n",
    "    a = a.lower()\n",
    "    count = 0\n",
    "    for j in range(len(a)%2+1):\n",
    "        if a[j] == a[len(a)-1-j]:\n",
    "            count += 1\n",
    "    if count == len(a)%2+1:\n",
    "        print(\"#{} YES\".format(i+1))\n",
    "    else:\n",
    "        print(\"#{} NO\".format(i+1))"
   ]
  },
  {
   "cell_type": "code",
   "execution_count": 2,
   "id": "7569058f",
   "metadata": {},
   "outputs": [
    {
     "name": "stdout",
     "output_type": "stream",
     "text": [
      "5\n",
      "level\n",
      "#1 YES\n",
      "moon\n",
      "#2 NO\n",
      "abcba\n",
      "#3 YES\n",
      "soon\n",
      "#4 NO\n",
      "gooG\n",
      "#5 YES\n"
     ]
    }
   ],
   "source": [
    "# 수업 풀이\n",
    "n = int(input())\n",
    "for i in range(n):\n",
    "    s = input()\n",
    "    s = s.upper()\n",
    "    size = len(s)\n",
    "    for j in range(size//2):\n",
    "        if s[j] != s[-1-j]:\n",
    "            print(\"#%d NO\" %(i+1))\n",
    "            break\n",
    "    else:\n",
    "        print(\"#%d YES\" %(i+1))"
   ]
  },
  {
   "cell_type": "code",
   "execution_count": 4,
   "id": "43c8386d",
   "metadata": {},
   "outputs": [
    {
     "name": "stdout",
     "output_type": "stream",
     "text": [
      "5\n",
      "level\n",
      "#1 YES\n",
      "moon\n",
      "#2 NO\n",
      "abcba\n",
      "#3 YES\n",
      "soon\n",
      "#4 NO\n",
      "gooG\n",
      "#5 YES\n"
     ]
    }
   ],
   "source": [
    "# 다른 풀이\n",
    "n = int(input())\n",
    "for i in range(n):\n",
    "    a = input()\n",
    "    a = a.upper()\n",
    "    if a == a[::-1]: #reverse가 됨, 거꾸로 된 문자열\n",
    "        print(\"#%d YES\" %(i+1))\n",
    "    else:\n",
    "        print(\"#%d NO\" %(i+1))"
   ]
  },
  {
   "cell_type": "code",
   "execution_count": null,
   "id": "bdd6025d",
   "metadata": {},
   "outputs": [],
   "source": []
  }
 ],
 "metadata": {
  "kernelspec": {
   "display_name": "Python 3 (ipykernel)",
   "language": "python",
   "name": "python3"
  },
  "language_info": {
   "codemirror_mode": {
    "name": "ipython",
    "version": 3
   },
   "file_extension": ".py",
   "mimetype": "text/x-python",
   "name": "python",
   "nbconvert_exporter": "python",
   "pygments_lexer": "ipython3",
   "version": "3.9.7"
  }
 },
 "nbformat": 4,
 "nbformat_minor": 5
}
