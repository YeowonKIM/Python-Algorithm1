{
 "cells": [
  {
   "cell_type": "markdown",
   "id": "67846f96",
   "metadata": {},
   "source": [
    "OX문제에서 점수를 계산하는 프로그램.\n",
    "맞으면 1, 틀리면 0으로 표시하며,\n",
    "연속으로 맞으면 가산점을 준다. (ex. 111 -> 6점)"
   ]
  },
  {
   "cell_type": "code",
   "execution_count": 7,
   "id": "84b40ed4",
   "metadata": {},
   "outputs": [
    {
     "name": "stdout",
     "output_type": "stream",
     "text": [
      "10\n",
      "1 0 1 1 1 0 0 1 1 0\n",
      "10\n"
     ]
    }
   ],
   "source": [
    "# 내 풀이\n",
    "n = int(input())\n",
    "ox = list(input().split())\n",
    "strOx = \"\".join(ox)\n",
    "splitOx = strOx.split('0')\n",
    "score = 0\n",
    "for i in range(len(splitOx)):\n",
    "    tot = 0\n",
    "    for j in range(1, len(splitOx[i])+1):\n",
    "        tot = tot + j\n",
    "        score += tot\n",
    "        tot = 0\n",
    "print(score)"
   ]
  },
  {
   "cell_type": "code",
   "execution_count": 4,
   "id": "63148bb1",
   "metadata": {},
   "outputs": [
    {
     "name": "stdout",
     "output_type": "stream",
     "text": [
      "10\n",
      "1 0 1 1 1 0 0 1 1 0\n",
      "10\n"
     ]
    }
   ],
   "source": [
    "# 수업 풀이 \n",
    "n = int(input())\n",
    "a = list(map(int,input().split()))\n",
    "sum = 0\n",
    "cnt = 0\n",
    "for x in a:\n",
    "    if x == 1:\n",
    "        cnt += 1\n",
    "        sum += cnt\n",
    "    else:\n",
    "        cnt = 0\n",
    "print(sum)"
   ]
  },
  {
   "cell_type": "code",
   "execution_count": null,
   "id": "1accb47c",
   "metadata": {},
   "outputs": [],
   "source": []
  },
  {
   "cell_type": "code",
   "execution_count": null,
   "id": "f4a96c01",
   "metadata": {},
   "outputs": [],
   "source": []
  },
  {
   "cell_type": "code",
   "execution_count": null,
   "id": "6a0ef24f",
   "metadata": {},
   "outputs": [],
   "source": []
  }
 ],
 "metadata": {
  "kernelspec": {
   "display_name": "Python 3 (ipykernel)",
   "language": "python",
   "name": "python3"
  },
  "language_info": {
   "codemirror_mode": {
    "name": "ipython",
    "version": 3
   },
   "file_extension": ".py",
   "mimetype": "text/x-python",
   "name": "python",
   "nbconvert_exporter": "python",
   "pygments_lexer": "ipython3",
   "version": "3.9.7"
  }
 },
 "nbformat": 4,
 "nbformat_minor": 5
}
